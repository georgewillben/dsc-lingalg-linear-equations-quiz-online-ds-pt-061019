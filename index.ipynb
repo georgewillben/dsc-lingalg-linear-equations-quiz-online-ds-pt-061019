{
 "cells": [
  {
   "cell_type": "markdown",
   "metadata": {},
   "source": [
    "# Systems of Linear Equations - Quiz\n",
    "\n",
    "## Introduction\n",
    "The following scenarios present problems that can be solved as a system of equations while performing substitutions and eliminations as you saw in the previous lesson.\n",
    "\n",
    "* Solve these problems by hand, showing all the steps to work out the unknown variable values \n",
    "* Verify your answers by showing the calculated values satisfy all equations\n",
    "\n",
    "## Objectives\n",
    "You will be able to:\n",
    "* Describe a system of linear equations for solving simple analytical problems\n",
    "* Solve a system of equations using elimination and substitution\n",
    "\n",
    "## Exercise 1\n",
    "Jane paid 12 dollars for 4 cups of coffee and 4 cups of tea. 3 cups of coffee cost as much as 2 cups of tea. What would be the total cost of 5 cups of coffee and 5 cups of tea?\n",
    "\n",
    "### Solution\n",
    "\n",
    "> Let $x$ be the unit price of coffee and $y$ be the unit price of tea"
   ]
  },
  {
   "cell_type": "code",
   "execution_count": 21,
   "metadata": {},
   "outputs": [
    {
     "name": "stdout",
     "output_type": "stream",
     "text": [
      "True\n",
      "True\n"
     ]
    },
    {
     "data": {
      "text/plain": [
       "15.0"
      ]
     },
     "execution_count": 21,
     "metadata": {},
     "output_type": "execute_result"
    }
   ],
   "source": [
    "# Your solution here \n",
    "# 4x + 4y = 12 EqA\n",
    "# 3x = 2y EqB\n",
    "# EqB * 2 is 6x = 4y EqC\n",
    "# EqA + EqC is 10x + 4y = 12 + 4y EqD\n",
    "# EqD simplifies to 10x = 12\n",
    "# x = 1.2\n",
    "# 3 * 1.2 = 2y \n",
    "# y = 1.8\n",
    "coffee = 1.2\n",
    "tea = 1.8\n",
    "print(4 * coffee + 4 * tea == 12)\n",
    "print(round(3 * coffee, 2) == round(2 * tea, 2))\n",
    "5 * coffee + 5 * tea\n",
    "# Answer: 5 cups of tea and 5 cups of coffee = 15 dollars"
   ]
  },
  {
   "cell_type": "markdown",
   "metadata": {},
   "source": [
    "## Exercise 2\n",
    "\n",
    "Jim has more money than Bob. If Jim gave Bob 20 dollars, they would have the same amount. If Bob gave Jim 22 dollars, however, Jim would then have twice as much as Bob. \n",
    "\n",
    "How much does each one actually have?\n",
    "\n",
    "### Solution\n",
    "> Let x be the amount of money that Jim has and y be the amount that Bob has."
   ]
  },
  {
   "cell_type": "code",
   "execution_count": 22,
   "metadata": {},
   "outputs": [
    {
     "name": "stdout",
     "output_type": "stream",
     "text": [
      "True\n",
      "True\n"
     ]
    }
   ],
   "source": [
    "# Your solution here\n",
    "# x > y\n",
    "# x - 20 = y + 20 EqA\n",
    "# x + 22 = 2(y - 22) EqB\n",
    "# EqB simplified is x + 22 = 2y - 44\n",
    "# EqB - EqA is 42 = y - 64\n",
    "# y = 106\n",
    "# EqA x - 20 = 106 + 20\n",
    "# x = 146\n",
    "\n",
    "jim = 146\n",
    "bob = 106\n",
    "print(jim - 20 == bob + 20)\n",
    "print(jim + 22 == 2 * (bob - 22))\n",
    "# Answer:\n",
    "# y = 106 (Bob's amount)\n",
    "# x = 146 (Jim's amount)"
   ]
  },
  {
   "cell_type": "markdown",
   "metadata": {},
   "source": [
    "## Exercise 3\n",
    "\n",
    "Mia has 30 coins, consisting of quarters (25 cents) and dimes (10 cents), which totals to the amount 5.70 dollars.  \n",
    "How many of each does she have?\n",
    "\n",
    "### Solution\n",
    "\n",
    "> Let x be the number of quarters and y be the number of dimes."
   ]
  },
  {
   "cell_type": "code",
   "execution_count": 26,
   "metadata": {},
   "outputs": [
    {
     "name": "stdout",
     "output_type": "stream",
     "text": [
      "18.0 quarters 12.0 dimes\n",
      "True\n",
      "True\n"
     ]
    }
   ],
   "source": [
    "# Your solution here \n",
    "# x + y = 30 EqA\n",
    "# x*0.25 + y*0.10 = 5.70 EqB\n",
    "# EqB * 4 is x + y*.40 = 22.8\n",
    "# EqA - EqB * 4 is y*0.6 = 7.2\n",
    "dimes = 7.2 / 0.6\n",
    "quarters = 30 - dimes\n",
    "print(quarters, 'quarters', dimes, 'dimes')\n",
    "print(dimes + quarters == 30)\n",
    "print(quarters*0.25 + dimes*0.10 == 5.70)\n",
    "# Answer:\n",
    "# x = 18 quarters\n",
    "# y = 12 dimes"
   ]
  },
  {
   "cell_type": "markdown",
   "metadata": {},
   "source": [
    "## Level up - Optional \n",
    "For more practice with linear equations, Visit following links for more complex equations and online answers verification:\n",
    "\n",
    "* https://www.transum.org/software/SW/Starter_of_the_day/Students/Simultaneous_Equations.asp?Level=6\n",
    "* https://www.transum.org/software/SW/Starter_of_the_day/Students/Simultaneous_Equations.asp?Level=7\n",
    "\n",
    "## Summary\n",
    "In this lesson, you learned how to solve linear equations by hand to find the co-efficient values. You'll now move forward to have a deeper look into vectors and matrices and how Python and Numpy can help us solve more complex equations in an analytical context. "
   ]
  }
 ],
 "metadata": {
  "kernelspec": {
   "display_name": "Python 3",
   "language": "python",
   "name": "python3"
  },
  "language_info": {
   "codemirror_mode": {
    "name": "ipython",
    "version": 3
   },
   "file_extension": ".py",
   "mimetype": "text/x-python",
   "name": "python",
   "nbconvert_exporter": "python",
   "pygments_lexer": "ipython3",
   "version": "3.7.3"
  }
 },
 "nbformat": 4,
 "nbformat_minor": 2
}
